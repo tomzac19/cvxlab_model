{
 "cells": [
  {
   "cell_type": "code",
   "execution_count": 1,
   "id": "68707d0b",
   "metadata": {},
   "outputs": [],
   "source": [
    "# import package\n",
    "import cvxlab\n",
    "\n",
    "# define root path\n",
    "main_dir_path = r\"C:/Users/tomma/GitHub/cvxlab_model\"\n",
    "\n",
    "# define model directory name\n",
    "model_dir_name ='rip'"
   ]
  },
  {
   "cell_type": "markdown",
   "id": "cb63b90c",
   "metadata": {},
   "source": [
    "# step 1: create a model directory"
   ]
  },
  {
   "cell_type": "code",
   "execution_count": null,
   "id": "a31efb8e",
   "metadata": {},
   "outputs": [],
   "source": [
    "\n",
    "cvxlab.create_model_dir(\n",
    "    model_dir_name=model_dir_name,\n",
    "    main_dir_path=main_dir_path,\n",
    "    template_file_type='xlsx',\n",
    "    export_tutorial=False,\n",
    ")"
   ]
  },
  {
   "cell_type": "code",
   "execution_count": null,
   "id": "3140ba21",
   "metadata": {},
   "outputs": [],
   "source": []
  },
  {
   "cell_type": "markdown",
   "id": "c52c8d8c",
   "metadata": {},
   "source": [
    "# step 2: fill model_settings.xlsx with the model settings\n",
    "# step 3: create a model object based on the defined model settings"
   ]
  },
  {
   "cell_type": "code",
   "execution_count": null,
   "id": "39a9d852",
   "metadata": {},
   "outputs": [],
   "source": [
    "model = cvxlab.Model(\n",
    "    model_dir_name=model_dir_name,\n",
    "    main_dir_path=main_dir_path,\n",
    "    log_level='debug',\n",
    "    model_settings_from='xlsx',\n",
    "    detailed_validation=True,\n",
    ")"
   ]
  },
  {
   "cell_type": "markdown",
   "id": "47f7d215",
   "metadata": {},
   "source": [
    "# step 4: fill sets.xlsx with the sets data (list of technologies, list of years, list of scenarios, filters etc.)\n",
    "# step 5: load coordinates based on sets.xlsx and generate data structures (database, input data files)"
   ]
  },
  {
   "cell_type": "code",
   "execution_count": null,
   "id": "b006912c",
   "metadata": {},
   "outputs": [],
   "source": [
    " \n",
    "model.load_model_coordinates()\n",
    "model.initialize_blank_data_structure()"
   ]
  },
  {
   "cell_type": "markdown",
   "id": "59cf0ed1",
   "metadata": {},
   "source": [
    "# step 6: fill data.xlsx with the data for the model (exogenous data)\n",
    "# step 7: load exogenous data, initialize the problem "
   ]
  },
  {
   "cell_type": "code",
   "execution_count": null,
   "id": "bc6253d0",
   "metadata": {},
   "outputs": [],
   "source": [
    "\n",
    "model.load_exogenous_data_to_sqlite_database()\n",
    "model.initialize_problems()"
   ]
  },
  {
   "cell_type": "markdown",
   "id": "cbf9081d",
   "metadata": {},
   "source": [
    "# step 8: solve the model"
   ]
  },
  {
   "cell_type": "code",
   "execution_count": null,
   "id": "89c1f7b8",
   "metadata": {},
   "outputs": [],
   "source": [
    "\n",
    "model.run_model(solver='GUROBI')"
   ]
  },
  {
   "cell_type": "markdown",
   "id": "c4078553",
   "metadata": {},
   "source": [
    "# step 9: export results to SQLite database"
   ]
  },
  {
   "cell_type": "code",
   "execution_count": null,
   "id": "4fdf5123",
   "metadata": {},
   "outputs": [],
   "source": [
    "\n",
    "model.load_results_to_database()"
   ]
  },
  {
   "cell_type": "markdown",
   "id": "4080b47c",
   "metadata": {},
   "source": [
    "# changing input data\n"
   ]
  },
  {
   "cell_type": "code",
   "execution_count": null,
   "id": "328d9007",
   "metadata": {},
   "outputs": [],
   "source": [
    "model.update_database_and_problem()"
   ]
  },
  {
   "cell_type": "code",
   "execution_count": null,
   "id": "66f1cd90",
   "metadata": {},
   "outputs": [],
   "source": [
    "model.run_model(solver='GUROBI')"
   ]
  },
  {
   "cell_type": "code",
   "execution_count": null,
   "id": "68aacf42",
   "metadata": {},
   "outputs": [],
   "source": [
    "model.load_results_to_database()"
   ]
  },
  {
   "cell_type": "markdown",
   "id": "7bdc697d",
   "metadata": {},
   "source": [
    "# starting from an existing model "
   ]
  },
  {
   "cell_type": "code",
   "execution_count": null,
   "id": "7286810e",
   "metadata": {},
   "outputs": [],
   "source": [
    "# import package\n",
    "import cvxlab\n",
    "\n",
    "# define root path\n",
    "main_dir_path = r\"C:/Users/baioc/OneDrive - Politecnico di Milano/PhD/Presentazione_CVXLAB\"\n",
    "\n",
    "# define model directory name\n",
    "model_dir_name = 'cvxlab_tutorial'\n",
    "\n",
    "model = cvxlab.Model(\n",
    "    model_dir_name=model_dir_name,\n",
    "    main_dir_path=main_dir_path,\n",
    "    log_level='debug',\n",
    "    model_settings_from='xlsx',\n",
    "    detailed_validation=True,\n",
    "    use_existing_data=True,\n",
    ")"
   ]
  },
  {
   "cell_type": "code",
   "execution_count": null,
   "id": "8fe16ac5",
   "metadata": {},
   "outputs": [],
   "source": []
  },
  {
   "cell_type": "code",
   "execution_count": null,
   "id": "06bb6738",
   "metadata": {},
   "outputs": [],
   "source": []
  }
 ],
 "metadata": {
  "kernelspec": {
   "display_name": "cvxlab",
   "language": "python",
   "name": "python3"
  },
  "language_info": {
   "codemirror_mode": {
    "name": "ipython",
    "version": 3
   },
   "file_extension": ".py",
   "mimetype": "text/x-python",
   "name": "python",
   "nbconvert_exporter": "python",
   "pygments_lexer": "ipython3",
   "version": "3.10.13"
  }
 },
 "nbformat": 4,
 "nbformat_minor": 5
}
